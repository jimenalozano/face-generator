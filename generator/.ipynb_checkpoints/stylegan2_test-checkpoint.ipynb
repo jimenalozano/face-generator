{
 "cells": [
  {
   "cell_type": "markdown",
   "metadata": {
    "id": "yH7mte2MaS_3"
   },
   "source": [
    "This notebook demonstrates how to run NVidia StyleGAN2 inside of a Google CoLab notebook. I suggest you use this to generate GAN faces from a pretrained model. If you try to train your own, you will run into compute limitations of Google CoLab.\n",
    "\n",
    "Make sure to run this code on a GPU instance. GPU is assumed.\n",
    "\n",
    "First, map your G-Drive, this is where your GANs will be written to."
   ]
  },
  {
   "cell_type": "code",
   "execution_count": 1,
   "metadata": {
    "colab": {
     "base_uri": "https://localhost:8080/",
     "height": 34
    },
    "id": "0CnGpQ4dVw6z",
    "outputId": "8ad10f4b-c6c8-46ef-d858-a2e6c0dea058"
   },
   "outputs": [
    {
     "name": "stderr",
     "output_type": "stream",
     "text": [
      "UsageError: Line magic function `%tensorflow_version` not found.\n"
     ]
    }
   ],
   "source": [
    "# Run this for Google CoLab (use TensorFlow 1.x)\n",
    "%tensorflow_version 1.x\n",
    "from google.colab import drive\n",
    "drive.mount('/content/drive', force_remount=True)"
   ]
  },
  {
   "cell_type": "markdown",
   "metadata": {
    "id": "TleOht6NafWO"
   },
   "source": [
    "Next, clone StyleGAN2 from GitHub."
   ]
  },
  {
   "cell_type": "code",
   "execution_count": null,
   "metadata": {
    "colab": {
     "base_uri": "https://localhost:8080/",
     "height": 85
    },
    "id": "WHR9pPyuWYqz",
    "outputId": "148fc2c0-c924-440c-a8ed-fa74b2cb5f82"
   },
   "outputs": [],
   "source": [
    "!git clone https://github.com/NVlabs/stylegan2.git"
   ]
  },
  {
   "cell_type": "markdown",
   "metadata": {
    "id": "xw5WZyWualw7"
   },
   "source": [
    "Verify that StyleGAN has been cloned."
   ]
  },
  {
   "cell_type": "code",
   "execution_count": null,
   "metadata": {
    "colab": {
     "base_uri": "https://localhost:8080/",
     "height": 85
    },
    "id": "BMNNsSHKWeLo",
    "outputId": "1ffe5097-d449-4d28-99ab-da609f492272"
   },
   "outputs": [],
   "source": [
    "!ls /content/stylegan2/"
   ]
  },
  {
   "cell_type": "markdown",
   "metadata": {
    "id": "3j4oYyWdcg2E"
   },
   "source": [
    "**Run StyleGan2 From Command Line.**\n",
    "\n",
    "\"This is the easier approach\" (straight forward)\n",
    "\n",
    "Add the StyleGAN folder to Python so that you can import it. The code below is based on code from NVidia. This actually generates your images."
   ]
  },
  {
   "cell_type": "code",
   "execution_count": null,
   "metadata": {
    "colab": {
     "base_uri": "https://localhost:8080/",
     "height": 598
    },
    "id": "SDOOxU40c-Fp",
    "outputId": "49d9fa7d-3820-48e0-ea36-ae1b351229e1"
   },
   "outputs": [],
   "source": [
    "!python /content/stylegan2/run_generator.py generate-images \\\n",
    "    --network=gdrive:networks/stylegan2-ffhq-config-f.pkl \\\n",
    "  --seeds=6600-6625 --truncation-psi=0.5"
   ]
  },
  {
   "cell_type": "code",
   "execution_count": null,
   "metadata": {
    "colab": {
     "base_uri": "https://localhost:8080/",
     "height": 136
    },
    "id": "iVJEtPAwdgtT",
    "outputId": "8e518480-0a2b-446b-9486-cc4c9eb18cfa"
   },
   "outputs": [],
   "source": [
    "!ls /content/results/00000-generate-images"
   ]
  },
  {
   "cell_type": "code",
   "execution_count": null,
   "metadata": {
    "id": "VdJ8nhJpdqdO"
   },
   "outputs": [],
   "source": [
    "cp /content/results/00000-generate-images/* \\\n",
    "    /content/drive/My\\ Drive/Proyecto\\ Final/Face\\ Generator/results/generate-images-example"
   ]
  },
  {
   "cell_type": "markdown",
   "metadata": {
    "id": "FudVNx1WgMYj"
   },
   "source": [
    "Style mixing example."
   ]
  },
  {
   "cell_type": "code",
   "execution_count": null,
   "metadata": {
    "colab": {
     "base_uri": "https://localhost:8080/",
     "height": 224
    },
    "id": "yHBX1EvXfxS7",
    "outputId": "6128c5d2-ce04-47ab-c407-9f42ff0f5dd6"
   },
   "outputs": [],
   "source": [
    "!python /content/stylegan2/run_generator.py style-mixing-example \\\n",
    "    --network=gdrive:networks/stylegan2-ffhq-config-f.pkl \\\n",
    "  --row-seeds=85,100,75,458,1500 --col-seeds=55,821,1789,293 \\\n",
    "    --truncation-psi=1.0"
   ]
  },
  {
   "cell_type": "code",
   "execution_count": null,
   "metadata": {
    "colab": {
     "base_uri": "https://localhost:8080/",
     "height": 136
    },
    "id": "JRYIFOergZjd",
    "outputId": "d30f4833-5e7d-4cab-9c97-71ffd122bbe2"
   },
   "outputs": [],
   "source": [
    "!ls /content/results/00001-style-mixing-example"
   ]
  },
  {
   "cell_type": "code",
   "execution_count": null,
   "metadata": {
    "id": "-15yds-qge2g"
   },
   "outputs": [],
   "source": [
    "cp /content/results/00001-style-mixing-example/* \\\n",
    "    /content/drive/My\\ Drive/Proyecto\\ Final/Face\\ Generator/results/style-mixing-example"
   ]
  },
  {
   "cell_type": "markdown",
   "metadata": {
    "id": "9xaYCeGGhRHT"
   },
   "source": [
    "**Run StyleGAN2 From Python.**\n",
    "\n",
    "Acá vamos a poder jugar más con el vector latente.\n",
    "\n",
    "Add the StyleGAN folder to Python so that you can import it. The code below is based on code from NVidia. This actually generates your images.\n",
    "\n"
   ]
  },
  {
   "cell_type": "code",
   "execution_count": null,
   "metadata": {
    "id": "ljXQQBQQhowd"
   },
   "outputs": [],
   "source": [
    "import sys\n",
    "sys.path.insert(0, \"/content/stylegan2\")\n",
    "\n",
    "import dnnlib"
   ]
  },
  {
   "cell_type": "code",
   "execution_count": null,
   "metadata": {
    "colab": {
     "base_uri": "https://localhost:8080/",
     "height": 374
    },
    "id": "uJ503DpDhv2o",
    "outputId": "17b9e5e0-1927-48c0-828c-7e72be8f0739"
   },
   "outputs": [],
   "source": [
    "# Copyright (c) 2019, NVIDIA Corporation. All rights reserved.\n",
    "#\n",
    "# This work is made available under the Nvidia Source Code License-NC.\n",
    "# To view a copy of this license, visit\n",
    "# https://nvlabs.github.io/stylegan2/license.html\n",
    "\n",
    "import argparse\n",
    "import numpy as np\n",
    "import PIL.Image\n",
    "import dnnlib\n",
    "import dnnlib.tflib as tflib\n",
    "import re\n",
    "import sys\n",
    "\n",
    "import pretrained_networks\n",
    "\n",
    "#----------------------------------------------------------------------------\n",
    "\n",
    "def expand_seed(seeds, vector_size):\n",
    "  result = []\n",
    "\n",
    "  for seed in seeds:\n",
    "    rnd = np.random.RandomState(seed)\n",
    "    result.append( rnd.randn(1, vector_size) ) \n",
    "  return result\n",
    "\n",
    "def generate_images(Gs, seeds, truncation_psi):\n",
    "    noise_vars = [var for name, var in \\\n",
    "                  Gs.components.synthesis.vars.items() \\\n",
    "                  if name.startswith('noise')]\n",
    "\n",
    "    Gs_kwargs = dnnlib.EasyDict()\n",
    "    Gs_kwargs.output_transform = dict(func= \\\n",
    "        tflib.convert_images_to_uint8, nchw_to_nhwc=True)\n",
    "    Gs_kwargs.randomize_noise = False\n",
    "    if truncation_psi is not None:\n",
    "        Gs_kwargs.truncation_psi = truncation_psi\n",
    "\n",
    "    for seed_idx, seed in enumerate(seeds):\n",
    "        print('Generating image for seed %d/%d ...' % (seed_idx, len(seeds)))\n",
    "        rnd = np.random.RandomState()\n",
    "        tflib.set_vars({var: rnd.randn(*var.shape.as_list()) \\\n",
    "                        for var in noise_vars}) # [height, width]\n",
    "        images = Gs.run(seed, None, **Gs_kwargs) \n",
    "        # [minibatch, height, width, channel]\n",
    "        path = f\"/content/drive/My Drive/Proyecto Final/Face Generator/results/python\"+\\\n",
    "                f\"/image{seed_idx}.png\"\n",
    "        PIL.Image.fromarray(images[0], 'RGB').save(path)\n",
    "\n",
    "def main():\n",
    "    sc = dnnlib.SubmitConfig()\n",
    "    sc.num_gpus = 1\n",
    "    sc.submit_target = dnnlib.SubmitTarget.LOCAL\n",
    "    sc.local.do_not_copy_source_files = True\n",
    "    sc.run_dir_root = \"/content/drive/My Drive/Proyecto Final/Face Generator/results/python/\"\n",
    "    sc.run_desc = 'generate-images'\n",
    "    network_pkl = 'gdrive:networks/stylegan2-ffhq-config-f.pkl'\n",
    "\n",
    "    print('Loading networks from \"%s\"...' % network_pkl)\n",
    "    _G, _D, Gs = pretrained_networks.load_networks(network_pkl)\n",
    "    vector_size = Gs.input_shape[1:][0]\n",
    "    seeds = expand_seed( range(8000,8020), vector_size)\n",
    "    generate_images(Gs, seeds,truncation_psi=0.5)\n",
    "\n",
    "#----------------------------------------------------------------------------\n",
    "\n",
    "if __name__ == \"__main__\":\n",
    "    main()\n",
    "\n",
    "#----------------------------------------------------------------------------"
   ]
  },
  {
   "cell_type": "markdown",
   "metadata": {
    "id": "becEg0QTnDZu"
   },
   "source": [
    "**Examining the Latent Vector**"
   ]
  },
  {
   "cell_type": "code",
   "execution_count": null,
   "metadata": {
    "colab": {
     "base_uri": "https://localhost:8080/",
     "height": 51
    },
    "id": "B4MZwYnZnC8x",
    "outputId": "f558e7d5-0408-4217-a025-614613da33e2"
   },
   "outputs": [],
   "source": [
    "sc = dnnlib.SubmitConfig()\n",
    "sc.num_gpus = 1\n",
    "sc.submit_target = dnnlib.SubmitTarget.LOCAL\n",
    "sc.local.do_not_copy_source_files = True\n",
    "sc.run_dir_root = \"/content/drive/My Drive/Proyecto Final/Face Generator/results/python/\"\n",
    "sc.run_desc = 'generate-images'\n",
    "network_pkl = 'gdrive:networks/stylegan2-ffhq-config-f.pkl'\n",
    "\n",
    "print('Loading networks from \"%s\"...' % network_pkl)\n",
    "_G, _D, Gs = pretrained_networks.load_networks(network_pkl)\n",
    "vector_size = Gs.input_shape[1:][0]\n",
    "# range(8192,8300)\n",
    "seeds = expand_seed( [8192+1,8192+9], vector_size)\n",
    "#generate_images(Gs, seeds,truncation_psi=0.5)\n",
    "print(seeds[0].shape)"
   ]
  },
  {
   "cell_type": "code",
   "execution_count": null,
   "metadata": {
    "colab": {
     "base_uri": "https://localhost:8080/",
     "height": 232
    },
    "id": "5FhY4kARnSn4",
    "outputId": "b72d9b92-4cb5-46e5-e887-0001eaa2164c"
   },
   "outputs": [],
   "source": [
    "# 8192+1,8192+9\n",
    "\n",
    "STEPS = 300\n",
    "diff = seeds[1] - seeds[0]\n",
    "step = diff / STEPS\n",
    "current = seeds[0].copy()\n",
    "\n",
    "seeds2 = []\n",
    "for i in range(STEPS):\n",
    "  seeds2.append(current)\n",
    "  current = current + step\n",
    "\n",
    "generate_images(Gs, seeds2,truncation_psi=0.5)"
   ]
  },
  {
   "cell_type": "markdown",
   "metadata": {
    "id": "80hblV2jna7y"
   },
   "source": [
    "You might wish to view these generate images as a video file. The command line utility ffmpeg can be used to combine these images into a video. The following command could be used to create this video. You will usually have to install ffmpeg for the particular operating system that you are running. Refer to the ffmpeg website for more details on installation.\n",
    "\n",
    "\n",
    "\n",
    "```\n",
    "ffmpeg -r 30 -i image%d.png -vcodec mpeg4 -y movie.mp4\n",
    "```\n",
    "\n"
   ]
  },
  {
   "cell_type": "markdown",
   "metadata": {
    "id": "TYozJKq6ptQ_"
   },
   "source": [
    "Effects of Random Noise"
   ]
  },
  {
   "cell_type": "code",
   "execution_count": null,
   "metadata": {
    "colab": {
     "base_uri": "https://localhost:8080/",
     "height": 119
    },
    "id": "qYii7mWZpydI",
    "outputId": "c31d0352-431e-4571-838b-618dbfb23b34"
   },
   "outputs": [],
   "source": [
    "sc = dnnlib.SubmitConfig()\n",
    "sc.num_gpus = 1\n",
    "sc.submit_target = dnnlib.SubmitTarget.LOCAL\n",
    "sc.local.do_not_copy_source_files = True\n",
    "sc.run_dir_root = \"/content/drive/My Drive/Proyecto Final/Face Generator/results/python/\"\n",
    "sc.run_desc = 'generate-images'\n",
    "network_pkl = 'gdrive:networks/stylegan2-ffhq-config-f.pkl'\n",
    "\n",
    "print('Loading networks from \"%s\"...' % network_pkl)\n",
    "_G, _D, Gs = pretrained_networks.load_networks(network_pkl)\n",
    "vector_size = Gs.input_shape[1:][0]\n",
    "seeds = expand_seed( [500, 500, 500, 500, 500], vector_size)\n",
    "generate_images(Gs, seeds,truncation_psi=0.5)"
   ]
  }
 ],
 "metadata": {
  "accelerator": "GPU",
  "colab": {
   "name": "stylegan2-test.ipynb",
   "provenance": []
  },
  "kernelspec": {
   "display_name": "PyCharm (face-generator)",
   "language": "python",
   "name": "pycharm-af54e859"
  },
  "language_info": {
   "codemirror_mode": {
    "name": "ipython",
    "version": 3
   },
   "file_extension": ".py",
   "mimetype": "text/x-python",
   "name": "python",
   "nbconvert_exporter": "python",
   "pygments_lexer": "ipython3",
   "version": "3.8.4"
  }
 },
 "nbformat": 4,
 "nbformat_minor": 1
}
